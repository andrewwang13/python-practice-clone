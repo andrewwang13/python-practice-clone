{
 "cells": [
  {
   "cell_type": "markdown",
   "metadata": {},
   "source": [
    "<strong>Sends city and state pairings to Google geocoding API to retrieve latitude and longitude.</strong>"
   ]
  },
  {
   "cell_type": "code",
   "execution_count": 1,
   "metadata": {
    "collapsed": true
   },
   "outputs": [],
   "source": [
    "import csv\n",
    "import requests"
   ]
  },
  {
   "cell_type": "code",
   "execution_count": 2,
   "metadata": {
    "collapsed": true
   },
   "outputs": [],
   "source": [
    "city_input=[]"
   ]
  },
  {
   "cell_type": "code",
   "execution_count": 3,
   "metadata": {
    "collapsed": true
   },
   "outputs": [],
   "source": [
    "base_url = 'http://maps.googleapis.com/maps/api/geocode/json'"
   ]
  },
  {
   "cell_type": "markdown",
   "metadata": {},
   "source": [
    "Reads city/state inputs from CSV into a list."
   ]
  },
  {
   "cell_type": "code",
   "execution_count": 4,
   "metadata": {
    "collapsed": true
   },
   "outputs": [],
   "source": [
    "with open('scrape_small_cities.csv','rU') as f:\n",
    "\treader=csv.reader(f)\n",
    "\tcity_input=list(reader)"
   ]
  },
  {
   "cell_type": "markdown",
   "metadata": {},
   "source": [
    "Defines 'getLocation' function to take city/state input and return Google API results."
   ]
  },
  {
   "cell_type": "code",
   "execution_count": 5,
   "metadata": {
    "collapsed": true
   },
   "outputs": [],
   "source": [
    "def getLocation(city_state):\n",
    "    results=[]\n",
    "    city_params={}\n",
    "    city_params['address']=city_state\n",
    "    city_params['language']='us'\n",
    "    \n",
    "    response = requests.get(base_url, params = city_params)\n",
    "    results = response.json()['results']\n",
    "    return results"
   ]
  },
  {
   "cell_type": "code",
   "execution_count": 6,
   "metadata": {
    "collapsed": true
   },
   "outputs": [],
   "source": [
    "latlong_output=[]"
   ]
  },
  {
   "cell_type": "markdown",
   "metadata": {},
   "source": [
    "Populates latlong_output list with selected data from Google API."
   ]
  },
  {
   "cell_type": "code",
   "execution_count": 7,
   "metadata": {},
   "outputs": [],
   "source": [
    "for i in city_input[1:11]:\n",
    "    \n",
    "    name=i[0]\n",
    "#     print name\n",
    "    result=getLocation(name)\n",
    "#     print \"\"\n",
    "#     print result\n",
    "#     print \"\"\n",
    "    loc= result[0]['geometry']['location']\n",
    "    city= result[0]['formatted_address']\n",
    "    loc['city']=city\n",
    "#     print city\n",
    "#     print loc\n",
    "#     print \"\"\n",
    "    latlong_output.append(loc)"
   ]
  },
  {
   "cell_type": "code",
   "execution_count": 8,
   "metadata": {},
   "outputs": [
    {
     "data": {
      "text/plain": [
       "[{'city': u'Linton Hall, Bristow, VA, USA',\n",
       "  u'lat': 38.7598381,\n",
       "  u'lng': -77.5749905},\n",
       " {'city': u'Little Elm, TX, USA', u'lat': 33.1626193, u'lng': -96.9375051},\n",
       " {'city': u'Leander, TX 78641, USA', u'lat': 30.5788055, u'lng': -97.8530686},\n",
       " {'city': u'Lehi, UT, USA', u'lat': 40.3916172, u'lng': -111.8507662},\n",
       " {'city': u'Sammamish, WA, USA',\n",
       "  u'lat': 47.61626829999999,\n",
       "  u'lng': -122.0355736},\n",
       " {'city': u'Brentwood, TN, USA',\n",
       "  u'lat': 36.0331164,\n",
       "  u'lng': -86.78277720000001},\n",
       " {'city': u'Flower Mound, TX, USA', u'lat': 33.0145673, u'lng': -97.0969552},\n",
       " {'city': u'Cedar Park, TX, USA', u'lat': 30.505198, u'lng': -97.8202888},\n",
       " {'city': u'Bentonville, AR, USA', u'lat': 36.3728538, u'lng': -94.2088172},\n",
       " {'city': u'Plainfield, IL, USA', u'lat': 41.632223, u'lng': -88.2120315}]"
      ]
     },
     "execution_count": 8,
     "metadata": {},
     "output_type": "execute_result"
    }
   ],
   "source": [
    "latlong_output"
   ]
  },
  {
   "cell_type": "markdown",
   "metadata": {},
   "source": [
    "Creates CSV"
   ]
  },
  {
   "cell_type": "code",
   "execution_count": 9,
   "metadata": {
    "collapsed": true
   },
   "outputs": [],
   "source": [
    "with open(\"./small_city_coordinates.csv\",\"wb\") as csvfile:\n",
    "    fieldnames=['city','lat','lng']\n",
    "    writer = csv.DictWriter(csvfile,fieldnames=fieldnames)\n",
    "    \n",
    "    writer.writeheader()\n",
    "    writer.writerows(latlong_output)\n"
   ]
  },
  {
   "cell_type": "code",
   "execution_count": null,
   "metadata": {
    "collapsed": true
   },
   "outputs": [],
   "source": []
  }
 ],
 "metadata": {
  "kernelspec": {
   "display_name": "Python 2",
   "language": "python",
   "name": "python2"
  },
  "language_info": {
   "codemirror_mode": {
    "name": "ipython",
    "version": 2
   },
   "file_extension": ".py",
   "mimetype": "text/x-python",
   "name": "python",
   "nbconvert_exporter": "python",
   "pygments_lexer": "ipython2",
   "version": "2.7.13"
  }
 },
 "nbformat": 4,
 "nbformat_minor": 2
}
