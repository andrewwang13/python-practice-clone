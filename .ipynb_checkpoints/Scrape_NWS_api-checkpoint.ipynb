{
 "cells": [
  {
   "cell_type": "markdown",
   "metadata": {},
   "source": [
    "<strong>Uses NWS current observations API to extract data on individual stations.</strong>"
   ]
  },
  {
   "cell_type": "code",
   "execution_count": 1,
   "metadata": {
    "collapsed": true
   },
   "outputs": [],
   "source": [
    "import csv\n",
    "import requests\n",
    "import pandas as pd\n",
    "import numpy as np"
   ]
  },
  {
   "cell_type": "markdown",
   "metadata": {},
   "source": [
    "Build URL and send query to API"
   ]
  },
  {
   "cell_type": "code",
   "execution_count": 2,
   "metadata": {
    "collapsed": true
   },
   "outputs": [],
   "source": [
    "station_id='STFC1'\n",
    "base_url='https://api.weather.gov'\n",
    "endpoint=\"/stations/\"+station_id+\"/observations/current\"\n",
    "\n",
    "query_url=base_url+endpoint"
   ]
  },
  {
   "cell_type": "code",
   "execution_count": 3,
   "metadata": {
    "collapsed": true
   },
   "outputs": [],
   "source": [
    "response = requests.get(query_url)\n",
    "results = response.json()"
   ]
  },
  {
   "cell_type": "markdown",
   "metadata": {},
   "source": [
    "Create table of retrieved data"
   ]
  },
  {
   "cell_type": "code",
   "execution_count": 4,
   "metadata": {
    "collapsed": true,
    "scrolled": false
   },
   "outputs": [],
   "source": [
    "all_data=[]\n",
    "# all_data.append(['lat','long','url','station_id','property','value','unit_code'])\n",
    "\n",
    "properties=results['properties']\n",
    "\n",
    "# https://stackoverflow.com/questions/5904969/how-to-print-a-dictionarys-key\n",
    "for i in properties:\n",
    "    try:\n",
    "        item=properties[i]\n",
    "        row=[]\n",
    "        row.append(results['geometry']['coordinates'][1])\n",
    "        row.append(results['geometry']['coordinates'][0])\n",
    "        name=[]\n",
    "        name.append(results['id'])\n",
    "        row.append(name)\n",
    "        row.append(station_id)\n",
    "        row.append(i)\n",
    "        row.append(item['value'])\n",
    "        row.append(item['unitCode'])\n",
    "        all_data.append(row)\n",
    "    except:\n",
    "        row.append(i)\n",
    "#         http://www.pythonforbeginners.com/error-handling/python-try-and-except"
   ]
  },
  {
   "cell_type": "markdown",
   "metadata": {},
   "source": [
    "Create dataframe of results"
   ]
  },
  {
   "cell_type": "code",
   "execution_count": 5,
   "metadata": {},
   "outputs": [
    {
     "data": {
      "text/html": [
       "<div>\n",
       "<style>\n",
       "    .dataframe thead tr:only-child th {\n",
       "        text-align: right;\n",
       "    }\n",
       "\n",
       "    .dataframe thead th {\n",
       "        text-align: left;\n",
       "    }\n",
       "\n",
       "    .dataframe tbody tr th {\n",
       "        vertical-align: top;\n",
       "    }\n",
       "</style>\n",
       "<table border=\"1\" class=\"dataframe\">\n",
       "  <thead>\n",
       "    <tr style=\"text-align: right;\">\n",
       "      <th></th>\n",
       "      <th>lat</th>\n",
       "      <th>long</th>\n",
       "      <th>url</th>\n",
       "      <th>station_id</th>\n",
       "      <th>property</th>\n",
       "      <th>value</th>\n",
       "      <th>unit_code</th>\n",
       "    </tr>\n",
       "  </thead>\n",
       "  <tbody>\n",
       "    <tr>\n",
       "      <th>0</th>\n",
       "      <td>34.126141</td>\n",
       "      <td>-117.947166</td>\n",
       "      <td>[https://api.weather.gov/stations/STFC1/observ...</td>\n",
       "      <td>STFC1</td>\n",
       "      <td>heatIndex</td>\n",
       "      <td>26.930797</td>\n",
       "      <td>unit:degC</td>\n",
       "    </tr>\n",
       "    <tr>\n",
       "      <th>1</th>\n",
       "      <td>34.126141</td>\n",
       "      <td>-117.947166</td>\n",
       "      <td>[https://api.weather.gov/stations/STFC1/observ...</td>\n",
       "      <td>STFC1</td>\n",
       "      <td>seaLevelPressure</td>\n",
       "      <td>NaN</td>\n",
       "      <td>unit:Pa</td>\n",
       "    </tr>\n",
       "    <tr>\n",
       "      <th>2</th>\n",
       "      <td>34.126141</td>\n",
       "      <td>-117.947166</td>\n",
       "      <td>[https://api.weather.gov/stations/STFC1/observ...</td>\n",
       "      <td>STFC1</td>\n",
       "      <td>relativeHumidity</td>\n",
       "      <td>17.979386</td>\n",
       "      <td>unit:percent</td>\n",
       "    </tr>\n",
       "    <tr>\n",
       "      <th>3</th>\n",
       "      <td>34.126141</td>\n",
       "      <td>-117.947166</td>\n",
       "      <td>[https://api.weather.gov/stations/STFC1/observ...</td>\n",
       "      <td>STFC1</td>\n",
       "      <td>minTemperatureLast24Hours</td>\n",
       "      <td>NaN</td>\n",
       "      <td>unit:degC</td>\n",
       "    </tr>\n",
       "    <tr>\n",
       "      <th>4</th>\n",
       "      <td>34.126141</td>\n",
       "      <td>-117.947166</td>\n",
       "      <td>[https://api.weather.gov/stations/STFC1/observ...</td>\n",
       "      <td>STFC1</td>\n",
       "      <td>temperature</td>\n",
       "      <td>28.333002</td>\n",
       "      <td>unit:degC</td>\n",
       "    </tr>\n",
       "    <tr>\n",
       "      <th>5</th>\n",
       "      <td>34.126141</td>\n",
       "      <td>-117.947166</td>\n",
       "      <td>[https://api.weather.gov/stations/STFC1/observ...</td>\n",
       "      <td>STFC1</td>\n",
       "      <td>precipitationLast3Hours</td>\n",
       "      <td>NaN</td>\n",
       "      <td>unit:m</td>\n",
       "    </tr>\n",
       "    <tr>\n",
       "      <th>6</th>\n",
       "      <td>34.126141</td>\n",
       "      <td>-117.947166</td>\n",
       "      <td>[https://api.weather.gov/stations/STFC1/observ...</td>\n",
       "      <td>STFC1</td>\n",
       "      <td>elevation</td>\n",
       "      <td>152.399994</td>\n",
       "      <td>unit:m</td>\n",
       "    </tr>\n",
       "    <tr>\n",
       "      <th>7</th>\n",
       "      <td>34.126141</td>\n",
       "      <td>-117.947166</td>\n",
       "      <td>[https://api.weather.gov/stations/STFC1/observ...</td>\n",
       "      <td>STFC1</td>\n",
       "      <td>dewpoint</td>\n",
       "      <td>1.725000</td>\n",
       "      <td>unit:degC</td>\n",
       "    </tr>\n",
       "    <tr>\n",
       "      <th>8</th>\n",
       "      <td>34.126141</td>\n",
       "      <td>-117.947166</td>\n",
       "      <td>[https://api.weather.gov/stations/STFC1/observ...</td>\n",
       "      <td>STFC1</td>\n",
       "      <td>visibility</td>\n",
       "      <td>NaN</td>\n",
       "      <td>unit:m</td>\n",
       "    </tr>\n",
       "    <tr>\n",
       "      <th>9</th>\n",
       "      <td>34.126141</td>\n",
       "      <td>-117.947166</td>\n",
       "      <td>[https://api.weather.gov/stations/STFC1/observ...</td>\n",
       "      <td>STFC1</td>\n",
       "      <td>barometricPressure</td>\n",
       "      <td>NaN</td>\n",
       "      <td>unit:Pa</td>\n",
       "    </tr>\n",
       "    <tr>\n",
       "      <th>10</th>\n",
       "      <td>34.126141</td>\n",
       "      <td>-117.947166</td>\n",
       "      <td>[https://api.weather.gov/stations/STFC1/observ...</td>\n",
       "      <td>STFC1</td>\n",
       "      <td>windDirection</td>\n",
       "      <td>233.000000</td>\n",
       "      <td>unit:degree_(angle)</td>\n",
       "    </tr>\n",
       "    <tr>\n",
       "      <th>11</th>\n",
       "      <td>34.126141</td>\n",
       "      <td>-117.947166</td>\n",
       "      <td>[https://api.weather.gov/stations/STFC1/observ...</td>\n",
       "      <td>STFC1</td>\n",
       "      <td>windChill</td>\n",
       "      <td>NaN</td>\n",
       "      <td>unit:degC</td>\n",
       "    </tr>\n",
       "    <tr>\n",
       "      <th>12</th>\n",
       "      <td>34.126141</td>\n",
       "      <td>-117.947166</td>\n",
       "      <td>[https://api.weather.gov/stations/STFC1/observ...</td>\n",
       "      <td>STFC1</td>\n",
       "      <td>windSpeed</td>\n",
       "      <td>1.790000</td>\n",
       "      <td>unit:m_s-1</td>\n",
       "    </tr>\n",
       "    <tr>\n",
       "      <th>13</th>\n",
       "      <td>34.126141</td>\n",
       "      <td>-117.947166</td>\n",
       "      <td>[https://api.weather.gov/stations/STFC1/observ...</td>\n",
       "      <td>STFC1</td>\n",
       "      <td>windGust</td>\n",
       "      <td>4.023000</td>\n",
       "      <td>unit:m_s-1</td>\n",
       "    </tr>\n",
       "    <tr>\n",
       "      <th>14</th>\n",
       "      <td>34.126141</td>\n",
       "      <td>-117.947166</td>\n",
       "      <td>[https://api.weather.gov/stations/STFC1/observ...</td>\n",
       "      <td>STFC1</td>\n",
       "      <td>maxTemperatureLast24Hours</td>\n",
       "      <td>NaN</td>\n",
       "      <td>unit:degC</td>\n",
       "    </tr>\n",
       "  </tbody>\n",
       "</table>\n",
       "</div>"
      ],
      "text/plain": [
       "          lat        long                                                url  \\\n",
       "0   34.126141 -117.947166  [https://api.weather.gov/stations/STFC1/observ...   \n",
       "1   34.126141 -117.947166  [https://api.weather.gov/stations/STFC1/observ...   \n",
       "2   34.126141 -117.947166  [https://api.weather.gov/stations/STFC1/observ...   \n",
       "3   34.126141 -117.947166  [https://api.weather.gov/stations/STFC1/observ...   \n",
       "4   34.126141 -117.947166  [https://api.weather.gov/stations/STFC1/observ...   \n",
       "5   34.126141 -117.947166  [https://api.weather.gov/stations/STFC1/observ...   \n",
       "6   34.126141 -117.947166  [https://api.weather.gov/stations/STFC1/observ...   \n",
       "7   34.126141 -117.947166  [https://api.weather.gov/stations/STFC1/observ...   \n",
       "8   34.126141 -117.947166  [https://api.weather.gov/stations/STFC1/observ...   \n",
       "9   34.126141 -117.947166  [https://api.weather.gov/stations/STFC1/observ...   \n",
       "10  34.126141 -117.947166  [https://api.weather.gov/stations/STFC1/observ...   \n",
       "11  34.126141 -117.947166  [https://api.weather.gov/stations/STFC1/observ...   \n",
       "12  34.126141 -117.947166  [https://api.weather.gov/stations/STFC1/observ...   \n",
       "13  34.126141 -117.947166  [https://api.weather.gov/stations/STFC1/observ...   \n",
       "14  34.126141 -117.947166  [https://api.weather.gov/stations/STFC1/observ...   \n",
       "\n",
       "   station_id                   property       value            unit_code  \n",
       "0       STFC1                  heatIndex   26.930797            unit:degC  \n",
       "1       STFC1           seaLevelPressure         NaN              unit:Pa  \n",
       "2       STFC1           relativeHumidity   17.979386         unit:percent  \n",
       "3       STFC1  minTemperatureLast24Hours         NaN            unit:degC  \n",
       "4       STFC1                temperature   28.333002            unit:degC  \n",
       "5       STFC1    precipitationLast3Hours         NaN               unit:m  \n",
       "6       STFC1                  elevation  152.399994               unit:m  \n",
       "7       STFC1                   dewpoint    1.725000            unit:degC  \n",
       "8       STFC1                 visibility         NaN               unit:m  \n",
       "9       STFC1         barometricPressure         NaN              unit:Pa  \n",
       "10      STFC1              windDirection  233.000000  unit:degree_(angle)  \n",
       "11      STFC1                  windChill         NaN            unit:degC  \n",
       "12      STFC1                  windSpeed    1.790000           unit:m_s-1  \n",
       "13      STFC1                   windGust    4.023000           unit:m_s-1  \n",
       "14      STFC1  maxTemperatureLast24Hours         NaN            unit:degC  "
      ]
     },
     "execution_count": 5,
     "metadata": {},
     "output_type": "execute_result"
    }
   ],
   "source": [
    "df=pd.DataFrame(data=all_data,columns=['lat','long','url','station_id','property','value','unit_code'])\n",
    "df"
   ]
  },
  {
   "cell_type": "markdown",
   "metadata": {},
   "source": [
    "Create CSV file"
   ]
  },
  {
   "cell_type": "code",
   "execution_count": 6,
   "metadata": {
    "collapsed": true
   },
   "outputs": [],
   "source": [
    "csv_file=\"./NWS_\"+station_id+\".csv\"\n",
    "\n",
    "file = open(csv_file,\"wb\")\n",
    "writer = csv.writer(file)\n",
    "writer.writerows(all_data)"
   ]
  }
 ],
 "metadata": {
  "kernelspec": {
   "display_name": "Python 2",
   "language": "python",
   "name": "python2"
  },
  "language_info": {
   "codemirror_mode": {
    "name": "ipython",
    "version": 2
   },
   "file_extension": ".py",
   "mimetype": "text/x-python",
   "name": "python",
   "nbconvert_exporter": "python",
   "pygments_lexer": "ipython2",
   "version": "2.7.13"
  }
 },
 "nbformat": 4,
 "nbformat_minor": 2
}
