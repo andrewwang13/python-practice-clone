{
 "cells": [
  {
   "cell_type": "code",
   "execution_count": 1,
   "metadata": {
    "collapsed": true
   },
   "outputs": [],
   "source": [
    "import csv\n",
    "import requests\n",
    "import pandas as pd\n",
    "import numpy as np"
   ]
  },
  {
   "cell_type": "code",
   "execution_count": 2,
   "metadata": {},
   "outputs": [
    {
     "name": "stdout",
     "output_type": "stream",
     "text": [
      "https://api.weather.gov/stations/STFC1/observations/current\n"
     ]
    }
   ],
   "source": [
    "\n",
    "station_id='STFC1'\n",
    "base_url='https://api.weather.gov'\n",
    "endpoint=\"/stations/\"+station_id+\"/observations/current\"\n",
    "\n",
    "query_url=base_url+endpoint\n",
    "print query_url"
   ]
  },
  {
   "cell_type": "code",
   "execution_count": 3,
   "metadata": {
    "collapsed": true
   },
   "outputs": [],
   "source": [
    "response = requests.get(query_url)\n",
    "results = response.json()"
   ]
  },
  {
   "cell_type": "code",
   "execution_count": 4,
   "metadata": {},
   "outputs": [
    {
     "name": "stdout",
     "output_type": "stream",
     "text": [
      "{u'geometry': {u'type': u'Point', u'coordinates': [-117.94716644287, 34.126140594482]}, u'@context': [u'https://raw.githubusercontent.com/geojson/geojson-ld/master/contexts/geojson-base.jsonld', {u'bearing': {u'@type': u's:QuantitativeValue'}, u'city': u's:addressLocality', u'@vocab': u'https://api.weather.gov/ontology#', u'forecastOffice': {u'@type': u'@id'}, u'distance': {u'@id': u's:Distance', u'@type': u's:QuantitativeValue'}, u'geometry': {u'@id': u's:GeoCoordinates', u'@type': u'geo:wktLiteral'}, u'forecastGridData': {u'@type': u'@id'}, u'state': u's:addressRegion', u'value': {u'@id': u's:value'}, u'county': {u'@type': u'@id'}, u's': u'https://schema.org/', u'publicZone': {u'@type': u'@id'}, u'unitCode': {u'@id': u's:unitCode', u'@type': u'@id'}, u'geo': u'http://www.opengis.net/ont/geosparql#', u'unit': u'http://codes.wmo.int/common/unit/', u'wx': u'https://api.weather.gov/ontology#'}], u'type': u'Feature', u'id': u'https://api.weather.gov/stations/STFC1/observations/2017-10-03T18:57:00+00:00', u'properties': {u'heatIndex': {u'qualityControl': u'qc:V', u'unitCode': u'unit:degC', u'value': 24.274396894357}, u'presentWeather': [], u'seaLevelPressure': {u'qualityControl': u'qc:Z', u'unitCode': u'unit:Pa', u'value': None}, u'relativeHumidity': {u'qualityControl': u'qc:C', u'unitCode': u'unit:percent', u'value': 50.953319391583}, u'minTemperatureLast24Hours': {u'qualityControl': None, u'unitCode': u'unit:degC', u'value': None}, u'temperature': {u'qualityControl': u'qc:V', u'unitCode': u'unit:degC', u'value': 24.443994140625}, u'@id': u'https://api.weather.gov/stations/STFC1/observations/2017-10-03T18:57:00+00:00', u'rawMessage': None, u'cloudLayers': [], u'station': u'https://api.weather.gov/stations/STFC1', u'precipitationLast3Hours': {u'qualityControl': u'qc:Z', u'unitCode': u'unit:m', u'value': None}, u'elevation': {u'unitCode': u'unit:m', u'value': 152.39999389648}, u'dewpoint': {u'qualityControl': u'qc:V', u'unitCode': u'unit:degC', u'value': 13.636987304688}, u'timestamp': u'2017-10-03T18:57:00+00:00', u'visibility': {u'qualityControl': u'qc:Z', u'unitCode': u'unit:m', u'value': None}, u'barometricPressure': {u'qualityControl': u'qc:Z', u'unitCode': u'unit:Pa', u'value': None}, u'windDirection': {u'qualityControl': u'qc:V', u'unitCode': u'unit:degree_(angle)', u'value': 52}, u'icon': u'https://api.weather.gov/icons/land/day/skc?size=medium', u'windChill': {u'qualityControl': u'qc:V', u'unitCode': u'unit:degC', u'value': None}, u'textDescription': u'Clear', u'windSpeed': {u'qualityControl': u'qc:V', u'unitCode': u'unit:m_s-1', u'value': 1.3430000543594}, u'windGust': {u'qualityControl': u'qc:S', u'unitCode': u'unit:m_s-1', u'value': 3.5750000476837}, u'maxTemperatureLast24Hours': {u'qualityControl': None, u'unitCode': u'unit:degC', u'value': None}, u'@type': u'wx:ObservationStation'}}\n"
     ]
    }
   ],
   "source": [
    "print results"
   ]
  },
  {
   "cell_type": "code",
   "execution_count": 5,
   "metadata": {},
   "outputs": [
    {
     "name": "stdout",
     "output_type": "stream",
     "text": [
      "(u'geometry', {u'type': u'Point', u'coordinates': [-117.94716644287, 34.126140594482]})\n",
      "(u'@context', [u'https://raw.githubusercontent.com/geojson/geojson-ld/master/contexts/geojson-base.jsonld', {u'bearing': {u'@type': u's:QuantitativeValue'}, u'city': u's:addressLocality', u'@vocab': u'https://api.weather.gov/ontology#', u'forecastOffice': {u'@type': u'@id'}, u'distance': {u'@id': u's:Distance', u'@type': u's:QuantitativeValue'}, u'geometry': {u'@id': u's:GeoCoordinates', u'@type': u'geo:wktLiteral'}, u'forecastGridData': {u'@type': u'@id'}, u'state': u's:addressRegion', u'value': {u'@id': u's:value'}, u'county': {u'@type': u'@id'}, u's': u'https://schema.org/', u'publicZone': {u'@type': u'@id'}, u'unitCode': {u'@id': u's:unitCode', u'@type': u'@id'}, u'geo': u'http://www.opengis.net/ont/geosparql#', u'unit': u'http://codes.wmo.int/common/unit/', u'wx': u'https://api.weather.gov/ontology#'}])\n",
      "(u'type', u'Feature')\n",
      "(u'id', u'https://api.weather.gov/stations/STFC1/observations/2017-10-03T18:57:00+00:00')\n",
      "(u'properties', {u'heatIndex': {u'qualityControl': u'qc:V', u'unitCode': u'unit:degC', u'value': 24.274396894357}, u'presentWeather': [], u'seaLevelPressure': {u'qualityControl': u'qc:Z', u'unitCode': u'unit:Pa', u'value': None}, u'relativeHumidity': {u'qualityControl': u'qc:C', u'unitCode': u'unit:percent', u'value': 50.953319391583}, u'minTemperatureLast24Hours': {u'qualityControl': None, u'unitCode': u'unit:degC', u'value': None}, u'temperature': {u'qualityControl': u'qc:V', u'unitCode': u'unit:degC', u'value': 24.443994140625}, u'@id': u'https://api.weather.gov/stations/STFC1/observations/2017-10-03T18:57:00+00:00', u'rawMessage': None, u'cloudLayers': [], u'station': u'https://api.weather.gov/stations/STFC1', u'precipitationLast3Hours': {u'qualityControl': u'qc:Z', u'unitCode': u'unit:m', u'value': None}, u'elevation': {u'unitCode': u'unit:m', u'value': 152.39999389648}, u'dewpoint': {u'qualityControl': u'qc:V', u'unitCode': u'unit:degC', u'value': 13.636987304688}, u'timestamp': u'2017-10-03T18:57:00+00:00', u'visibility': {u'qualityControl': u'qc:Z', u'unitCode': u'unit:m', u'value': None}, u'barometricPressure': {u'qualityControl': u'qc:Z', u'unitCode': u'unit:Pa', u'value': None}, u'windDirection': {u'qualityControl': u'qc:V', u'unitCode': u'unit:degree_(angle)', u'value': 52}, u'icon': u'https://api.weather.gov/icons/land/day/skc?size=medium', u'windChill': {u'qualityControl': u'qc:V', u'unitCode': u'unit:degC', u'value': None}, u'textDescription': u'Clear', u'windSpeed': {u'qualityControl': u'qc:V', u'unitCode': u'unit:m_s-1', u'value': 1.3430000543594}, u'windGust': {u'qualityControl': u'qc:S', u'unitCode': u'unit:m_s-1', u'value': 3.5750000476837}, u'maxTemperatureLast24Hours': {u'qualityControl': None, u'unitCode': u'unit:degC', u'value': None}, u'@type': u'wx:ObservationStation'})\n"
     ]
    }
   ],
   "source": [
    "for i in results.iteritems():\n",
    "    print i"
   ]
  },
  {
   "cell_type": "code",
   "execution_count": 6,
   "metadata": {
    "collapsed": true,
    "scrolled": false
   },
   "outputs": [],
   "source": [
    "all_data=[]\n",
    "all_data.append(['lat','long','url','station_id','property','value','unit_code'])\n",
    "\n",
    "properties=results['properties']\n",
    "\n",
    "# https://stackoverflow.com/questions/5904969/how-to-print-a-dictionarys-key\n",
    "for i in properties:\n",
    "    try:\n",
    "        item=properties[i]\n",
    "        row=[]\n",
    "        row.append(results['geometry']['coordinates'][1])\n",
    "        row.append(results['geometry']['coordinates'][0])\n",
    "        name=[]\n",
    "        name.append(results['id'])\n",
    "        row.append(name)\n",
    "        row.append(station_id)\n",
    "        row.append(i)\n",
    "        row.append(item['value'])\n",
    "        row.append(item['unitCode'])\n",
    "        all_data.append(row)\n",
    "    except:\n",
    "        row.append(i)\n",
    "#         http://www.pythonforbeginners.com/error-handling/python-try-and-except"
   ]
  },
  {
   "cell_type": "code",
   "execution_count": 7,
   "metadata": {},
   "outputs": [
    {
     "name": "stdout",
     "output_type": "stream",
     "text": [
      "[['lat', 'long', 'url', 'station_id', 'property', 'value', 'unit_code'], [34.126140594482, -117.94716644287, [u'https://api.weather.gov/stations/STFC1/observations/2017-10-03T18:57:00+00:00'], 'STFC1', u'heatIndex', 24.274396894357, u'unit:degC'], [34.126140594482, -117.94716644287, [u'https://api.weather.gov/stations/STFC1/observations/2017-10-03T18:57:00+00:00'], 'STFC1', u'seaLevelPressure', None, u'unit:Pa'], [34.126140594482, -117.94716644287, [u'https://api.weather.gov/stations/STFC1/observations/2017-10-03T18:57:00+00:00'], 'STFC1', u'relativeHumidity', 50.953319391583, u'unit:percent'], [34.126140594482, -117.94716644287, [u'https://api.weather.gov/stations/STFC1/observations/2017-10-03T18:57:00+00:00'], 'STFC1', u'minTemperatureLast24Hours', None, u'unit:degC'], [34.126140594482, -117.94716644287, [u'https://api.weather.gov/stations/STFC1/observations/2017-10-03T18:57:00+00:00'], 'STFC1', u'temperature', 24.443994140625, u'unit:degC'], [34.126140594482, -117.94716644287, [u'https://api.weather.gov/stations/STFC1/observations/2017-10-03T18:57:00+00:00'], 'STFC1', u'precipitationLast3Hours', None, u'unit:m'], [34.126140594482, -117.94716644287, [u'https://api.weather.gov/stations/STFC1/observations/2017-10-03T18:57:00+00:00'], 'STFC1', u'elevation', 152.39999389648, u'unit:m'], [34.126140594482, -117.94716644287, [u'https://api.weather.gov/stations/STFC1/observations/2017-10-03T18:57:00+00:00'], 'STFC1', u'dewpoint', 13.636987304688, u'unit:degC'], [34.126140594482, -117.94716644287, [u'https://api.weather.gov/stations/STFC1/observations/2017-10-03T18:57:00+00:00'], 'STFC1', u'visibility', None, u'unit:m'], [34.126140594482, -117.94716644287, [u'https://api.weather.gov/stations/STFC1/observations/2017-10-03T18:57:00+00:00'], 'STFC1', u'barometricPressure', None, u'unit:Pa'], [34.126140594482, -117.94716644287, [u'https://api.weather.gov/stations/STFC1/observations/2017-10-03T18:57:00+00:00'], 'STFC1', u'windDirection', 52, u'unit:degree_(angle)'], [34.126140594482, -117.94716644287, [u'https://api.weather.gov/stations/STFC1/observations/2017-10-03T18:57:00+00:00'], 'STFC1', u'windChill', None, u'unit:degC'], [34.126140594482, -117.94716644287, [u'https://api.weather.gov/stations/STFC1/observations/2017-10-03T18:57:00+00:00'], 'STFC1', u'windSpeed', 1.3430000543594, u'unit:m_s-1'], [34.126140594482, -117.94716644287, [u'https://api.weather.gov/stations/STFC1/observations/2017-10-03T18:57:00+00:00'], 'STFC1', u'windGust', 3.5750000476837, u'unit:m_s-1'], [34.126140594482, -117.94716644287, [u'https://api.weather.gov/stations/STFC1/observations/2017-10-03T18:57:00+00:00'], 'STFC1', u'maxTemperatureLast24Hours', None, u'unit:degC']]\n"
     ]
    }
   ],
   "source": [
    "print all_data"
   ]
  },
  {
   "cell_type": "code",
   "execution_count": 8,
   "metadata": {},
   "outputs": [
    {
     "data": {
      "text/html": [
       "<div>\n",
       "<style>\n",
       "    .dataframe thead tr:only-child th {\n",
       "        text-align: right;\n",
       "    }\n",
       "\n",
       "    .dataframe thead th {\n",
       "        text-align: left;\n",
       "    }\n",
       "\n",
       "    .dataframe tbody tr th {\n",
       "        vertical-align: top;\n",
       "    }\n",
       "</style>\n",
       "<table border=\"1\" class=\"dataframe\">\n",
       "  <thead>\n",
       "    <tr style=\"text-align: right;\">\n",
       "      <th></th>\n",
       "      <th>0</th>\n",
       "      <th>1</th>\n",
       "      <th>2</th>\n",
       "      <th>3</th>\n",
       "      <th>4</th>\n",
       "      <th>5</th>\n",
       "      <th>6</th>\n",
       "    </tr>\n",
       "  </thead>\n",
       "  <tbody>\n",
       "    <tr>\n",
       "      <th>0</th>\n",
       "      <td>lat</td>\n",
       "      <td>long</td>\n",
       "      <td>url</td>\n",
       "      <td>station_id</td>\n",
       "      <td>property</td>\n",
       "      <td>value</td>\n",
       "      <td>unit_code</td>\n",
       "    </tr>\n",
       "    <tr>\n",
       "      <th>1</th>\n",
       "      <td>34.1261</td>\n",
       "      <td>-117.947</td>\n",
       "      <td>[https://api.weather.gov/stations/STFC1/observ...</td>\n",
       "      <td>STFC1</td>\n",
       "      <td>heatIndex</td>\n",
       "      <td>24.2744</td>\n",
       "      <td>unit:degC</td>\n",
       "    </tr>\n",
       "    <tr>\n",
       "      <th>2</th>\n",
       "      <td>34.1261</td>\n",
       "      <td>-117.947</td>\n",
       "      <td>[https://api.weather.gov/stations/STFC1/observ...</td>\n",
       "      <td>STFC1</td>\n",
       "      <td>seaLevelPressure</td>\n",
       "      <td>None</td>\n",
       "      <td>unit:Pa</td>\n",
       "    </tr>\n",
       "    <tr>\n",
       "      <th>3</th>\n",
       "      <td>34.1261</td>\n",
       "      <td>-117.947</td>\n",
       "      <td>[https://api.weather.gov/stations/STFC1/observ...</td>\n",
       "      <td>STFC1</td>\n",
       "      <td>relativeHumidity</td>\n",
       "      <td>50.9533</td>\n",
       "      <td>unit:percent</td>\n",
       "    </tr>\n",
       "    <tr>\n",
       "      <th>4</th>\n",
       "      <td>34.1261</td>\n",
       "      <td>-117.947</td>\n",
       "      <td>[https://api.weather.gov/stations/STFC1/observ...</td>\n",
       "      <td>STFC1</td>\n",
       "      <td>minTemperatureLast24Hours</td>\n",
       "      <td>None</td>\n",
       "      <td>unit:degC</td>\n",
       "    </tr>\n",
       "    <tr>\n",
       "      <th>5</th>\n",
       "      <td>34.1261</td>\n",
       "      <td>-117.947</td>\n",
       "      <td>[https://api.weather.gov/stations/STFC1/observ...</td>\n",
       "      <td>STFC1</td>\n",
       "      <td>temperature</td>\n",
       "      <td>24.444</td>\n",
       "      <td>unit:degC</td>\n",
       "    </tr>\n",
       "    <tr>\n",
       "      <th>6</th>\n",
       "      <td>34.1261</td>\n",
       "      <td>-117.947</td>\n",
       "      <td>[https://api.weather.gov/stations/STFC1/observ...</td>\n",
       "      <td>STFC1</td>\n",
       "      <td>precipitationLast3Hours</td>\n",
       "      <td>None</td>\n",
       "      <td>unit:m</td>\n",
       "    </tr>\n",
       "    <tr>\n",
       "      <th>7</th>\n",
       "      <td>34.1261</td>\n",
       "      <td>-117.947</td>\n",
       "      <td>[https://api.weather.gov/stations/STFC1/observ...</td>\n",
       "      <td>STFC1</td>\n",
       "      <td>elevation</td>\n",
       "      <td>152.4</td>\n",
       "      <td>unit:m</td>\n",
       "    </tr>\n",
       "    <tr>\n",
       "      <th>8</th>\n",
       "      <td>34.1261</td>\n",
       "      <td>-117.947</td>\n",
       "      <td>[https://api.weather.gov/stations/STFC1/observ...</td>\n",
       "      <td>STFC1</td>\n",
       "      <td>dewpoint</td>\n",
       "      <td>13.637</td>\n",
       "      <td>unit:degC</td>\n",
       "    </tr>\n",
       "    <tr>\n",
       "      <th>9</th>\n",
       "      <td>34.1261</td>\n",
       "      <td>-117.947</td>\n",
       "      <td>[https://api.weather.gov/stations/STFC1/observ...</td>\n",
       "      <td>STFC1</td>\n",
       "      <td>visibility</td>\n",
       "      <td>None</td>\n",
       "      <td>unit:m</td>\n",
       "    </tr>\n",
       "    <tr>\n",
       "      <th>10</th>\n",
       "      <td>34.1261</td>\n",
       "      <td>-117.947</td>\n",
       "      <td>[https://api.weather.gov/stations/STFC1/observ...</td>\n",
       "      <td>STFC1</td>\n",
       "      <td>barometricPressure</td>\n",
       "      <td>None</td>\n",
       "      <td>unit:Pa</td>\n",
       "    </tr>\n",
       "    <tr>\n",
       "      <th>11</th>\n",
       "      <td>34.1261</td>\n",
       "      <td>-117.947</td>\n",
       "      <td>[https://api.weather.gov/stations/STFC1/observ...</td>\n",
       "      <td>STFC1</td>\n",
       "      <td>windDirection</td>\n",
       "      <td>52</td>\n",
       "      <td>unit:degree_(angle)</td>\n",
       "    </tr>\n",
       "    <tr>\n",
       "      <th>12</th>\n",
       "      <td>34.1261</td>\n",
       "      <td>-117.947</td>\n",
       "      <td>[https://api.weather.gov/stations/STFC1/observ...</td>\n",
       "      <td>STFC1</td>\n",
       "      <td>windChill</td>\n",
       "      <td>None</td>\n",
       "      <td>unit:degC</td>\n",
       "    </tr>\n",
       "    <tr>\n",
       "      <th>13</th>\n",
       "      <td>34.1261</td>\n",
       "      <td>-117.947</td>\n",
       "      <td>[https://api.weather.gov/stations/STFC1/observ...</td>\n",
       "      <td>STFC1</td>\n",
       "      <td>windSpeed</td>\n",
       "      <td>1.343</td>\n",
       "      <td>unit:m_s-1</td>\n",
       "    </tr>\n",
       "    <tr>\n",
       "      <th>14</th>\n",
       "      <td>34.1261</td>\n",
       "      <td>-117.947</td>\n",
       "      <td>[https://api.weather.gov/stations/STFC1/observ...</td>\n",
       "      <td>STFC1</td>\n",
       "      <td>windGust</td>\n",
       "      <td>3.575</td>\n",
       "      <td>unit:m_s-1</td>\n",
       "    </tr>\n",
       "    <tr>\n",
       "      <th>15</th>\n",
       "      <td>34.1261</td>\n",
       "      <td>-117.947</td>\n",
       "      <td>[https://api.weather.gov/stations/STFC1/observ...</td>\n",
       "      <td>STFC1</td>\n",
       "      <td>maxTemperatureLast24Hours</td>\n",
       "      <td>None</td>\n",
       "      <td>unit:degC</td>\n",
       "    </tr>\n",
       "  </tbody>\n",
       "</table>\n",
       "</div>"
      ],
      "text/plain": [
       "          0        1                                                  2  \\\n",
       "0       lat     long                                                url   \n",
       "1   34.1261 -117.947  [https://api.weather.gov/stations/STFC1/observ...   \n",
       "2   34.1261 -117.947  [https://api.weather.gov/stations/STFC1/observ...   \n",
       "3   34.1261 -117.947  [https://api.weather.gov/stations/STFC1/observ...   \n",
       "4   34.1261 -117.947  [https://api.weather.gov/stations/STFC1/observ...   \n",
       "5   34.1261 -117.947  [https://api.weather.gov/stations/STFC1/observ...   \n",
       "6   34.1261 -117.947  [https://api.weather.gov/stations/STFC1/observ...   \n",
       "7   34.1261 -117.947  [https://api.weather.gov/stations/STFC1/observ...   \n",
       "8   34.1261 -117.947  [https://api.weather.gov/stations/STFC1/observ...   \n",
       "9   34.1261 -117.947  [https://api.weather.gov/stations/STFC1/observ...   \n",
       "10  34.1261 -117.947  [https://api.weather.gov/stations/STFC1/observ...   \n",
       "11  34.1261 -117.947  [https://api.weather.gov/stations/STFC1/observ...   \n",
       "12  34.1261 -117.947  [https://api.weather.gov/stations/STFC1/observ...   \n",
       "13  34.1261 -117.947  [https://api.weather.gov/stations/STFC1/observ...   \n",
       "14  34.1261 -117.947  [https://api.weather.gov/stations/STFC1/observ...   \n",
       "15  34.1261 -117.947  [https://api.weather.gov/stations/STFC1/observ...   \n",
       "\n",
       "             3                          4        5                    6  \n",
       "0   station_id                   property    value            unit_code  \n",
       "1        STFC1                  heatIndex  24.2744            unit:degC  \n",
       "2        STFC1           seaLevelPressure     None              unit:Pa  \n",
       "3        STFC1           relativeHumidity  50.9533         unit:percent  \n",
       "4        STFC1  minTemperatureLast24Hours     None            unit:degC  \n",
       "5        STFC1                temperature   24.444            unit:degC  \n",
       "6        STFC1    precipitationLast3Hours     None               unit:m  \n",
       "7        STFC1                  elevation    152.4               unit:m  \n",
       "8        STFC1                   dewpoint   13.637            unit:degC  \n",
       "9        STFC1                 visibility     None               unit:m  \n",
       "10       STFC1         barometricPressure     None              unit:Pa  \n",
       "11       STFC1              windDirection       52  unit:degree_(angle)  \n",
       "12       STFC1                  windChill     None            unit:degC  \n",
       "13       STFC1                  windSpeed    1.343           unit:m_s-1  \n",
       "14       STFC1                   windGust    3.575           unit:m_s-1  \n",
       "15       STFC1  maxTemperatureLast24Hours     None            unit:degC  "
      ]
     },
     "execution_count": 8,
     "metadata": {},
     "output_type": "execute_result"
    }
   ],
   "source": [
    "df=pd.DataFrame(data=all_data)\n",
    "df"
   ]
  },
  {
   "cell_type": "code",
   "execution_count": 9,
   "metadata": {
    "collapsed": true
   },
   "outputs": [],
   "source": [
    "csv_file=\"./NWS_\"+station_id+\".csv\"\n",
    "\n",
    "file = open(csv_file,\"wb\")\n",
    "writer = csv.writer(file)\n",
    "writer.writerows(all_data)"
   ]
  },
  {
   "cell_type": "code",
   "execution_count": null,
   "metadata": {
    "collapsed": true
   },
   "outputs": [],
   "source": []
  }
 ],
 "metadata": {
  "kernelspec": {
   "display_name": "Python 2",
   "language": "python",
   "name": "python2"
  },
  "language_info": {
   "codemirror_mode": {
    "name": "ipython",
    "version": 2
   },
   "file_extension": ".py",
   "mimetype": "text/x-python",
   "name": "python",
   "nbconvert_exporter": "python",
   "pygments_lexer": "ipython2",
   "version": "2.7.13"
  }
 },
 "nbformat": 4,
 "nbformat_minor": 2
}
