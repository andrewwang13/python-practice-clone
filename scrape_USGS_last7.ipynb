{
 "cells": [
  {
   "cell_type": "markdown",
   "metadata": {},
   "source": [
    "<Strong>Extracting data from the USGS earthquake feed (last seven days)</Strong>"
   ]
  },
  {
   "cell_type": "code",
   "execution_count": 1,
   "metadata": {
    "collapsed": true
   },
   "outputs": [],
   "source": [
    "import csv\n",
    "import requests\n",
    "from BeautifulSoup import BeautifulSoup"
   ]
  },
  {
   "cell_type": "code",
   "execution_count": 2,
   "metadata": {
    "collapsed": true
   },
   "outputs": [],
   "source": [
    "base_url='https://earthquake.usgs.gov/earthquakes/feed/v1.0/summary/all_week.geojson'"
   ]
  },
  {
   "cell_type": "markdown",
   "metadata": {},
   "source": [
    "Getting data"
   ]
  },
  {
   "cell_type": "code",
   "execution_count": 3,
   "metadata": {
    "collapsed": true
   },
   "outputs": [],
   "source": [
    "response=requests.get(base_url)\n",
    "results=response.json()"
   ]
  },
  {
   "cell_type": "code",
   "execution_count": 4,
   "metadata": {},
   "outputs": [
    {
     "data": {
      "text/plain": [
       "{u'geometry': {u'coordinates': [132.668, 1.1151, 7.01], u'type': u'Point'},\n",
       " u'id': u'us2000b2cc',\n",
       " u'properties': {u'alert': None,\n",
       "  u'cdi': None,\n",
       "  u'code': u'2000b2cc',\n",
       "  u'detail': u'https://earthquake.usgs.gov/earthquakes/feed/v1.0/detail/us2000b2cc.geojson',\n",
       "  u'dmin': 4.029,\n",
       "  u'felt': None,\n",
       "  u'gap': 98,\n",
       "  u'ids': u',us2000b2cc,',\n",
       "  u'mag': 5,\n",
       "  u'magType': u'mb',\n",
       "  u'mmi': None,\n",
       "  u'net': u'us',\n",
       "  u'nst': None,\n",
       "  u'place': u'269km NW of Manokwari, Indonesia',\n",
       "  u'rms': 0.83,\n",
       "  u'sig': 385,\n",
       "  u'sources': u',us,',\n",
       "  u'status': u'reviewed',\n",
       "  u'time': 1507340745260,\n",
       "  u'title': u'M 5.0 - 269km NW of Manokwari, Indonesia',\n",
       "  u'tsunami': 1,\n",
       "  u'type': u'earthquake',\n",
       "  u'types': u',geoserve,origin,phase-data,',\n",
       "  u'tz': 540,\n",
       "  u'updated': 1507341898040,\n",
       "  u'url': u'https://earthquake.usgs.gov/earthquakes/eventpage/us2000b2cc'},\n",
       " u'type': u'Feature'}"
      ]
     },
     "execution_count": 4,
     "metadata": {},
     "output_type": "execute_result"
    }
   ],
   "source": [
    "results['features'][1]"
   ]
  },
  {
   "cell_type": "markdown",
   "metadata": {},
   "source": [
    "Creating list of lists"
   ]
  },
  {
   "cell_type": "code",
   "execution_count": 5,
   "metadata": {
    "collapsed": true
   },
   "outputs": [],
   "source": [
    "all_data=[]\n",
    "all_data.append(['lat','long','url','magnitude','depth','places','time'])"
   ]
  },
  {
   "cell_type": "markdown",
   "metadata": {},
   "source": [
    "Populating all_data with data"
   ]
  },
  {
   "cell_type": "code",
   "execution_count": 6,
   "metadata": {
    "collapsed": true
   },
   "outputs": [],
   "source": [
    "for i in results['features']:\n",
    "    row=[]\n",
    "    row.append(i['geometry']['coordinates'][1])\n",
    "    row.append(i['geometry']['coordinates'][0])\n",
    "    row.append(i['properties']['url'])\n",
    "    row.append(i['properties']['mag'])\n",
    "    row.append(i['geometry']['coordinates'][2])\n",
    "    row.append(i['properties']['place'])\n",
    "    row.append(i['properties']['time'])\n",
    "    all_data.append(row)"
   ]
  },
  {
   "cell_type": "code",
   "execution_count": 7,
   "metadata": {},
   "outputs": [
    {
     "data": {
      "text/plain": [
       "[['lat', 'long', 'url', 'magnitude', 'depth', 'places', 'time'],\n",
       " [40.8424988,\n",
       "  -121.1011658,\n",
       "  u'https://earthquake.usgs.gov/earthquakes/eventpage/nc72905496',\n",
       "  1.94,\n",
       "  6.01,\n",
       "  u'47km E of Burney, California',\n",
       "  1507341324260],\n",
       " [1.1151,\n",
       "  132.668,\n",
       "  u'https://earthquake.usgs.gov/earthquakes/eventpage/us2000b2cc',\n",
       "  5,\n",
       "  7.01,\n",
       "  u'269km NW of Manokwari, Indonesia',\n",
       "  1507340745260],\n",
       " [33.4663333,\n",
       "  -116.4626667,\n",
       "  u'https://earthquake.usgs.gov/earthquakes/eventpage/ci38020800',\n",
       "  1.46,\n",
       "  5.78,\n",
       "  u'22km ESE of Anza, CA',\n",
       "  1507340726000],\n",
       " [60.2328,\n",
       "  -141.2596,\n",
       "  u'https://earthquake.usgs.gov/earthquakes/eventpage/ak16991706',\n",
       "  1.7,\n",
       "  0,\n",
       "  u'67km ENE of Cape Yakataga, Alaska',\n",
       "  1507339655320],\n",
       " [62.4396,\n",
       "  -149.7575,\n",
       "  u'https://earthquake.usgs.gov/earthquakes/eventpage/ak16991704',\n",
       "  1.7,\n",
       "  50.8,\n",
       "  u'22km NE of Talkeetna, Alaska',\n",
       "  1507338343941],\n",
       " [33.499,\n",
       "  -116.79,\n",
       "  u'https://earthquake.usgs.gov/earthquakes/eventpage/ci38020784',\n",
       "  0.73,\n",
       "  4.31,\n",
       "  u'9km NE of Aguanga, CA',\n",
       "  1507336652630],\n",
       " [60.5797,\n",
       "  -152.3178,\n",
       "  u'https://earthquake.usgs.gov/earthquakes/eventpage/ak16991697',\n",
       "  2.1,\n",
       "  88.2,\n",
       "  u'25km ENE of Redoubt Volcano, Alaska',\n",
       "  1507336466527],\n",
       " [33.4966667,\n",
       "  -116.7901667,\n",
       "  u'https://earthquake.usgs.gov/earthquakes/eventpage/ci38020776',\n",
       "  0.42,\n",
       "  5.18,\n",
       "  u'9km NE of Aguanga, CA',\n",
       "  1507336386410]]"
      ]
     },
     "execution_count": 7,
     "metadata": {},
     "output_type": "execute_result"
    }
   ],
   "source": [
    "all_data[0:9]"
   ]
  },
  {
   "cell_type": "markdown",
   "metadata": {},
   "source": [
    "Creating CSV"
   ]
  },
  {
   "cell_type": "code",
   "execution_count": 8,
   "metadata": {
    "collapsed": true
   },
   "outputs": [],
   "source": [
    "file = open(\"./USGS_last_7_days_2.csv\",\"wb\")\n",
    "writer = csv.writer(file)\n",
    "writer.writerows(all_data)"
   ]
  }
 ],
 "metadata": {
  "kernelspec": {
   "display_name": "Python 2",
   "language": "python",
   "name": "python2"
  },
  "language_info": {
   "codemirror_mode": {
    "name": "ipython",
    "version": 2
   },
   "file_extension": ".py",
   "mimetype": "text/x-python",
   "name": "python",
   "nbconvert_exporter": "python",
   "pygments_lexer": "ipython2",
   "version": "2.7.13"
  }
 },
 "nbformat": 4,
 "nbformat_minor": 2
}
