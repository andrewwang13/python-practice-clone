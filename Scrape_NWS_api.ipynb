{
 "cells": [
  {
   "cell_type": "code",
   "execution_count": 4,
   "metadata": {
    "collapsed": true
   },
   "outputs": [],
   "source": [
    "import csv\n",
    "import requests"
   ]
  },
  {
   "cell_type": "code",
   "execution_count": 204,
   "metadata": {},
   "outputs": [
    {
     "name": "stdout",
     "output_type": "stream",
     "text": [
      "https://api.weather.gov/stations/STFC1/observations/current\n"
     ]
    }
   ],
   "source": [
    "\n",
    "station_id='STFC1'\n",
    "base_url='https://api.weather.gov'\n",
    "endpoint=\"/stations/\"+station_id+\"/observations/current\"\n",
    "\n",
    "query_url=base_url+endpoint\n",
    "print query_url"
   ]
  },
  {
   "cell_type": "code",
   "execution_count": 205,
   "metadata": {},
   "outputs": [],
   "source": [
    "response = requests.get(query_url)\n",
    "results = response.json()"
   ]
  },
  {
   "cell_type": "code",
   "execution_count": 206,
   "metadata": {},
   "outputs": [
    {
     "name": "stdout",
     "output_type": "stream",
     "text": [
      "{u'geometry': {u'type': u'Point', u'coordinates': [-117.94716644287, 34.126140594482]}, u'@context': [u'https://raw.githubusercontent.com/geojson/geojson-ld/master/contexts/geojson-base.jsonld', {u'bearing': {u'@type': u's:QuantitativeValue'}, u'city': u's:addressLocality', u'@vocab': u'https://api.weather.gov/ontology#', u'forecastOffice': {u'@type': u'@id'}, u'distance': {u'@id': u's:Distance', u'@type': u's:QuantitativeValue'}, u'geometry': {u'@id': u's:GeoCoordinates', u'@type': u'geo:wktLiteral'}, u'forecastGridData': {u'@type': u'@id'}, u'state': u's:addressRegion', u'value': {u'@id': u's:value'}, u'county': {u'@type': u'@id'}, u's': u'https://schema.org/', u'publicZone': {u'@type': u'@id'}, u'unitCode': {u'@id': u's:unitCode', u'@type': u'@id'}, u'geo': u'http://www.opengis.net/ont/geosparql#', u'unit': u'http://codes.wmo.int/common/unit/', u'wx': u'https://api.weather.gov/ontology#'}], u'type': u'Feature', u'id': u'https://api.weather.gov/stations/STFC1/observations/2017-09-29T22:57:00+00:00', u'properties': {u'heatIndex': {u'qualityControl': u'qc:V', u'unitCode': u'unit:degC', u'value': 31.552858489903}, u'presentWeather': [], u'seaLevelPressure': {u'qualityControl': u'qc:Z', u'unitCode': u'unit:Pa', u'value': None}, u'relativeHumidity': {u'qualityControl': u'qc:C', u'unitCode': u'unit:percent', u'value': 15.961707324805}, u'minTemperatureLast24Hours': {u'qualityControl': None, u'unitCode': u'unit:degC', u'value': None}, u'temperature': {u'qualityControl': u'qc:V', u'unitCode': u'unit:degC', u'value': 33.889001464844}, u'@id': u'https://api.weather.gov/stations/STFC1/observations/2017-09-29T22:57:00+00:00', u'rawMessage': None, u'cloudLayers': [], u'station': u'https://api.weather.gov/stations/STFC1', u'precipitationLast3Hours': {u'qualityControl': u'qc:Z', u'unitCode': u'unit:m', u'value': None}, u'elevation': {u'unitCode': u'unit:m', u'value': 152.39999389648}, u'dewpoint': {u'qualityControl': u'qc:V', u'unitCode': u'unit:degC', u'value': 4.5209899902344}, u'timestamp': u'2017-09-29T22:57:00+00:00', u'visibility': {u'qualityControl': u'qc:Z', u'unitCode': u'unit:m', u'value': None}, u'barometricPressure': {u'qualityControl': u'qc:Z', u'unitCode': u'unit:Pa', u'value': None}, u'windDirection': {u'qualityControl': u'qc:V', u'unitCode': u'unit:degree_(angle)', u'value': 227}, u'icon': u'https://api.weather.gov/icons/land/day/skc?size=medium', u'windChill': {u'qualityControl': u'qc:V', u'unitCode': u'unit:degC', u'value': None}, u'textDescription': u'Clear', u'windSpeed': {u'qualityControl': u'qc:V', u'unitCode': u'unit:m_s-1', u'value': 4.0229997634888}, u'windGust': {u'qualityControl': u'qc:S', u'unitCode': u'unit:m_s-1', u'value': 8.0459995269775}, u'maxTemperatureLast24Hours': {u'qualityControl': None, u'unitCode': u'unit:degC', u'value': None}, u'@type': u'wx:ObservationStation'}}\n"
     ]
    }
   ],
   "source": [
    "print results"
   ]
  },
  {
   "cell_type": "code",
   "execution_count": 207,
   "metadata": {},
   "outputs": [
    {
     "name": "stdout",
     "output_type": "stream",
     "text": [
      "(u'geometry', {u'type': u'Point', u'coordinates': [-117.94716644287, 34.126140594482]})\n",
      "(u'@context', [u'https://raw.githubusercontent.com/geojson/geojson-ld/master/contexts/geojson-base.jsonld', {u'bearing': {u'@type': u's:QuantitativeValue'}, u'city': u's:addressLocality', u'@vocab': u'https://api.weather.gov/ontology#', u'forecastOffice': {u'@type': u'@id'}, u'distance': {u'@id': u's:Distance', u'@type': u's:QuantitativeValue'}, u'geometry': {u'@id': u's:GeoCoordinates', u'@type': u'geo:wktLiteral'}, u'forecastGridData': {u'@type': u'@id'}, u'state': u's:addressRegion', u'value': {u'@id': u's:value'}, u'county': {u'@type': u'@id'}, u's': u'https://schema.org/', u'publicZone': {u'@type': u'@id'}, u'unitCode': {u'@id': u's:unitCode', u'@type': u'@id'}, u'geo': u'http://www.opengis.net/ont/geosparql#', u'unit': u'http://codes.wmo.int/common/unit/', u'wx': u'https://api.weather.gov/ontology#'}])\n",
      "(u'type', u'Feature')\n",
      "(u'id', u'https://api.weather.gov/stations/STFC1/observations/2017-09-29T22:57:00+00:00')\n",
      "(u'properties', {u'heatIndex': {u'qualityControl': u'qc:V', u'unitCode': u'unit:degC', u'value': 31.552858489903}, u'presentWeather': [], u'seaLevelPressure': {u'qualityControl': u'qc:Z', u'unitCode': u'unit:Pa', u'value': None}, u'relativeHumidity': {u'qualityControl': u'qc:C', u'unitCode': u'unit:percent', u'value': 15.961707324805}, u'minTemperatureLast24Hours': {u'qualityControl': None, u'unitCode': u'unit:degC', u'value': None}, u'temperature': {u'qualityControl': u'qc:V', u'unitCode': u'unit:degC', u'value': 33.889001464844}, u'@id': u'https://api.weather.gov/stations/STFC1/observations/2017-09-29T22:57:00+00:00', u'rawMessage': None, u'cloudLayers': [], u'station': u'https://api.weather.gov/stations/STFC1', u'precipitationLast3Hours': {u'qualityControl': u'qc:Z', u'unitCode': u'unit:m', u'value': None}, u'elevation': {u'unitCode': u'unit:m', u'value': 152.39999389648}, u'dewpoint': {u'qualityControl': u'qc:V', u'unitCode': u'unit:degC', u'value': 4.5209899902344}, u'timestamp': u'2017-09-29T22:57:00+00:00', u'visibility': {u'qualityControl': u'qc:Z', u'unitCode': u'unit:m', u'value': None}, u'barometricPressure': {u'qualityControl': u'qc:Z', u'unitCode': u'unit:Pa', u'value': None}, u'windDirection': {u'qualityControl': u'qc:V', u'unitCode': u'unit:degree_(angle)', u'value': 227}, u'icon': u'https://api.weather.gov/icons/land/day/skc?size=medium', u'windChill': {u'qualityControl': u'qc:V', u'unitCode': u'unit:degC', u'value': None}, u'textDescription': u'Clear', u'windSpeed': {u'qualityControl': u'qc:V', u'unitCode': u'unit:m_s-1', u'value': 4.0229997634888}, u'windGust': {u'qualityControl': u'qc:S', u'unitCode': u'unit:m_s-1', u'value': 8.0459995269775}, u'maxTemperatureLast24Hours': {u'qualityControl': None, u'unitCode': u'unit:degC', u'value': None}, u'@type': u'wx:ObservationStation'})\n"
     ]
    }
   ],
   "source": [
    "for i in results.iteritems():\n",
    "    print i\n"
   ]
  },
  {
   "cell_type": "code",
   "execution_count": 221,
   "metadata": {
    "scrolled": false
   },
   "outputs": [],
   "source": [
    "all_data=[]\n",
    "# all_data.append(results['geometry']['coordinates'])\n",
    "# name=[]\n",
    "# name.append(results['id'])\n",
    "# all_data.append(name)\n",
    "\n",
    "properties=results['properties']\n",
    "\n",
    "# https://stackoverflow.com/questions/5904969/how-to-print-a-dictionarys-key\n",
    "for i in properties:\n",
    "    try:\n",
    "        item=properties[i]\n",
    "        row=[]\n",
    "        row.append(results['geometry']['coordinates'])\n",
    "        name=[]\n",
    "        name.append(results['id'])\n",
    "        row.append(name)\n",
    "        row.append(station_id)\n",
    "        row.append(i)\n",
    "        row.append(item['value'])\n",
    "        row.append(item['unitCode'])\n",
    "#         print item['unitCode']\n",
    "        all_data.append(row)\n",
    "    except:\n",
    "        row.append(i)\n",
    "#         row.append(item)\n",
    "#         http://www.pythonforbeginners.com/error-handling/python-try-and-except"
   ]
  },
  {
   "cell_type": "code",
   "execution_count": 222,
   "metadata": {},
   "outputs": [
    {
     "name": "stdout",
     "output_type": "stream",
     "text": [
      "[[[-117.94716644287, 34.126140594482], [u'https://api.weather.gov/stations/STFC1/observations/2017-09-29T22:57:00+00:00'], 'STFC1', u'heatIndex', 31.552858489903, u'unit:degC'], [[-117.94716644287, 34.126140594482], [u'https://api.weather.gov/stations/STFC1/observations/2017-09-29T22:57:00+00:00'], 'STFC1', u'seaLevelPressure', None, u'unit:Pa'], [[-117.94716644287, 34.126140594482], [u'https://api.weather.gov/stations/STFC1/observations/2017-09-29T22:57:00+00:00'], 'STFC1', u'relativeHumidity', 15.961707324805, u'unit:percent'], [[-117.94716644287, 34.126140594482], [u'https://api.weather.gov/stations/STFC1/observations/2017-09-29T22:57:00+00:00'], 'STFC1', u'minTemperatureLast24Hours', None, u'unit:degC'], [[-117.94716644287, 34.126140594482], [u'https://api.weather.gov/stations/STFC1/observations/2017-09-29T22:57:00+00:00'], 'STFC1', u'temperature', 33.889001464844, u'unit:degC'], [[-117.94716644287, 34.126140594482], [u'https://api.weather.gov/stations/STFC1/observations/2017-09-29T22:57:00+00:00'], 'STFC1', u'precipitationLast3Hours', None, u'unit:m'], [[-117.94716644287, 34.126140594482], [u'https://api.weather.gov/stations/STFC1/observations/2017-09-29T22:57:00+00:00'], 'STFC1', u'elevation', 152.39999389648, u'unit:m'], [[-117.94716644287, 34.126140594482], [u'https://api.weather.gov/stations/STFC1/observations/2017-09-29T22:57:00+00:00'], 'STFC1', u'dewpoint', 4.5209899902344, u'unit:degC'], [[-117.94716644287, 34.126140594482], [u'https://api.weather.gov/stations/STFC1/observations/2017-09-29T22:57:00+00:00'], 'STFC1', u'visibility', None, u'unit:m'], [[-117.94716644287, 34.126140594482], [u'https://api.weather.gov/stations/STFC1/observations/2017-09-29T22:57:00+00:00'], 'STFC1', u'barometricPressure', None, u'unit:Pa'], [[-117.94716644287, 34.126140594482], [u'https://api.weather.gov/stations/STFC1/observations/2017-09-29T22:57:00+00:00'], 'STFC1', u'windDirection', 227, u'unit:degree_(angle)'], [[-117.94716644287, 34.126140594482], [u'https://api.weather.gov/stations/STFC1/observations/2017-09-29T22:57:00+00:00'], 'STFC1', u'windChill', None, u'unit:degC'], [[-117.94716644287, 34.126140594482], [u'https://api.weather.gov/stations/STFC1/observations/2017-09-29T22:57:00+00:00'], 'STFC1', u'windSpeed', 4.0229997634888, u'unit:m_s-1'], [[-117.94716644287, 34.126140594482], [u'https://api.weather.gov/stations/STFC1/observations/2017-09-29T22:57:00+00:00'], 'STFC1', u'windGust', 8.0459995269775, u'unit:m_s-1'], [[-117.94716644287, 34.126140594482], [u'https://api.weather.gov/stations/STFC1/observations/2017-09-29T22:57:00+00:00'], 'STFC1', u'maxTemperatureLast24Hours', None, u'unit:degC']]\n"
     ]
    }
   ],
   "source": [
    "print all_data"
   ]
  },
  {
   "cell_type": "code",
   "execution_count": 224,
   "metadata": {},
   "outputs": [],
   "source": [
    "csv_file=\"./NWS_\"+station_id+\".csv\"\n",
    "\n",
    "file = open(csv_file,\"wb\")\n",
    "writer = csv.writer(file)\n",
    "writer.writerows(all_data)"
   ]
  },
  {
   "cell_type": "code",
   "execution_count": null,
   "metadata": {
    "collapsed": true
   },
   "outputs": [],
   "source": []
  }
 ],
 "metadata": {
  "kernelspec": {
   "display_name": "Python 2",
   "language": "python",
   "name": "python2"
  },
  "language_info": {
   "codemirror_mode": {
    "name": "ipython",
    "version": 2
   },
   "file_extension": ".py",
   "mimetype": "text/x-python",
   "name": "python",
   "nbconvert_exporter": "python",
   "pygments_lexer": "ipython2",
   "version": "2.7.13"
  }
 },
 "nbformat": 4,
 "nbformat_minor": 2
}
