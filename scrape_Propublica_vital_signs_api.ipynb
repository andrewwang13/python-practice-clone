{
 "cells": [
  {
   "cell_type": "code",
   "execution_count": 40,
   "metadata": {
    "collapsed": true
   },
   "outputs": [],
   "source": [
    "import csv\n",
    "import requests"
   ]
  },
  {
   "cell_type": "code",
   "execution_count": 41,
   "metadata": {
    "collapsed": true
   },
   "outputs": [],
   "source": [
    "base_url='https://api.propublica.org/doctors/'"
   ]
  },
  {
   "cell_type": "code",
   "execution_count": 42,
   "metadata": {
    "collapsed": true
   },
   "outputs": [],
   "source": [
    "my_API_key='tqTF6GMNXduw5u7QhrYu'"
   ]
  },
  {
   "cell_type": "code",
   "execution_count": 56,
   "metadata": {
    "collapsed": true
   },
   "outputs": [],
   "source": [
    "NPI='1811939952'"
   ]
  },
  {
   "cell_type": "code",
   "execution_count": 46,
   "metadata": {},
   "outputs": [],
   "source": [
    "head={}\n",
    "head['X-API-Key']=my_API_key"
   ]
  },
  {
   "cell_type": "code",
   "execution_count": 57,
   "metadata": {},
   "outputs": [],
   "source": [
    "url=base_url+NPI"
   ]
  },
  {
   "cell_type": "code",
   "execution_count": 58,
   "metadata": {
    "collapsed": true
   },
   "outputs": [],
   "source": [
    "# https://techietweak.wordpress.com/2015/03/30/http-restful-api-with-python-requests-library/\n",
    "response = requests.get(url,headers=head)\n",
    "results = response.json()"
   ]
  },
  {
   "cell_type": "code",
   "execution_count": 81,
   "metadata": {
    "collapsed": true
   },
   "outputs": [],
   "source": [
    "all_data=[]"
   ]
  },
  {
   "cell_type": "code",
   "execution_count": 82,
   "metadata": {},
   "outputs": [],
   "source": [
    "for i in results.iteritems():\n",
    "    all_data.append(i)\n"
   ]
  },
  {
   "cell_type": "code",
   "execution_count": 83,
   "metadata": {},
   "outputs": [
    {
     "name": "stdout",
     "output_type": "stream",
     "text": [
      "[(u'provider_credential_text', u'M.D.'), (u'brand_name_prescriber', None), (u'npi_deactivation_date', None), (u'provider_first_line_business_mailing_address', u'PO BOX 1441'), (u'provider_second_line_business_mailing_address', None), (u'provider_last_name_legal_name', u'CHANG'), (u'provider_business_practice_location_address_state_name', u'CA'), (u'median_number_of_days_for_peers', None), (u'terminated_updated', None), (u'provider_name_suffix_text', None), (u'provider_business_mailing_address_state_name', u'CA'), (u'number_of_patients_receiving_prescriptions', 423), (u'terminated_states', None), (u'drug_price', None), (u'delivers_services_more_repeatedly_than_peers', None), (u'earliest_revocation_date', None), (u'percentage_of_drugs_dangerous_for_seniors', 0.87), (u'revoked_from_medicare', None), (u'median_payment_amount_for_peers', None), (u'surgeries', None), (u'provider_business_mailing_address_fax_number', u'6262942996'), (u'provider_middle_name', None), (u'yelp_updated', u'2017-05-09'), (u'hhs_exclusion_date', None), (u'average_paid_per_patient', 235.6), (u'total_payment_amount', 1122.65), (u'hhs_exclusion_type', None), (u'percentage_of_patients_of_peers_receiving_narcotics', 17.68), (u'percentage_of_patients_receiving_narcotics', 12.53), (u'top_5_drugs_for_doctor', [u'Invokana', u'Vascepa', u'Corlanor', u'Xarelto', u'Brintellix']), (u'npi_last_update_date', u'2011-07-21'), (u'provider_business_mailing_address_city_name', u'ARCADIA'), (u'number_of_prescriptions', 5880), (u'hhs_exclusion_reinstatement_date', None), (u'delivers_services_that_peers_dont', None), (u'medicare_participation', True), (u'replacement_npi', None), (u'payments_updated', u'2016-12-13'), (u'average_number_of_services', 4.45), (u'provider_gender_code', u'M'), (u'medicare_participation_last_updated', u'2017-09-07'), (u'speaking_payment', False), (u'number_companies_paying', 13), (u'provider_business_practice_location_address_telephone_number', u'6262549540'), (u'terminated_reapply_eligible', None), (u'hhs_exclusion_updated', u'2017-09-01'), (u'provider_second_line_business_practice_location_address', u'SUITE 102'), (u'hhs_exclusion_type_description', None), (u'percentage_of_patients_receiving_antipsychotics', None), (u'provider_business_practice_location_address_fax_number', u'6262942996'), (u'performs_more_services_than_peers', False), (u'provider_first_name', u'DENNIS'), (u'provider_organization_name_legal_business_name', None), (u'top_5_devices_for_doctor', [u'IMPLANTABLE CARDIOVERTER DEFIBRILLATORS', u'Propel', u'Precision Energy Products for Head & Neck Surgical Applications', u'GreenLight Laser Therapy', u'ENT']), (u'payments_scope', u'August 2013-December 2015'), (u'peers_average_paid_per_patient', 242.30853678552), (u'provider_business_mailing_address_country_code', u'US'), (u'paid_more_per_patient_than_peers', False), (u'nearly_all_category_5_visits', None), (u'provider_business_practice_location_address_country_code', u'US'), (u'surgeries_scope', None), (u'percentage_of_patients_of_peers_receiving_antipsychotics', None), (u'provider_specialty', u'207Q00000X'), (u'surgeries_updated', None), (u'number_of_days', 30), (u'unusual_spending_increase', None), (u'ein', None), (u'revoked_updated', None), (u'provider_business_mailing_address_postal_code', u'910771441'), (u'provider_business_mailing_address_telephone_number', u'6268330770'), (u'prescriptions_scope', u'2015'), (u'provider_specialty_display', u'Family Medicine'), (u'hospitals', None), (u'terminated_by_medicaid', None), (u'yelp_id', u'bRueGCGRJULZri-SxRXKuA'), (u'relative_number_of_5s_to_peers', u'lower'), (u'peers_average_number_of_services', 5.04299297), (u'median_number_of_payments_for_peers', None), (u'percentage_of_drugs_from_peers_dangerous_for_seniors', 0), (u'provider_business_practice_location_address_city_name', u'ARCADIA'), (u'provider_name_prefix_text', u'DR.'), (u'hhs_exclusion', None), (u'treatment_scope', u'2014'), (u'npi', u'1811939952'), (u'provider_business_practice_location_address_postal_code', u'910077603'), (u'number_of_payments', 31), (u'provider_first_line_business_practice_location_address', u'624 W DUARTE RD'), (u'percentage_of_5_office_visits', 0), (u'npi_reactivation_date', None)]\n"
     ]
    }
   ],
   "source": [
    "print all_data"
   ]
  },
  {
   "cell_type": "code",
   "execution_count": 85,
   "metadata": {
    "collapsed": true
   },
   "outputs": [],
   "source": [
    "file = open(\"./propub_CHANG.csv\",\"wb\")\n",
    "writer = csv.writer(file)\n",
    "writer.writerows(all_data)"
   ]
  },
  {
   "cell_type": "code",
   "execution_count": null,
   "metadata": {
    "collapsed": true
   },
   "outputs": [],
   "source": []
  }
 ],
 "metadata": {
  "kernelspec": {
   "display_name": "Python 2",
   "language": "python",
   "name": "python2"
  },
  "language_info": {
   "codemirror_mode": {
    "name": "ipython",
    "version": 2
   },
   "file_extension": ".py",
   "mimetype": "text/x-python",
   "name": "python",
   "nbconvert_exporter": "python",
   "pygments_lexer": "ipython2",
   "version": "2.7.13"
  }
 },
 "nbformat": 4,
 "nbformat_minor": 2
}
